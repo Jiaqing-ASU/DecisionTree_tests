{
 "cells": [
  {
   "cell_type": "code",
   "execution_count": 1,
   "metadata": {},
   "outputs": [],
   "source": [
    "import psycopg2\n",
    "\n",
    "t_host = \"localhost\"\n",
    "t_port = \"5432\"\n",
    "t_dbname = \"postgres\"\n",
    "t_user = \"postgres\"\n",
    "t_pw = \"postgres\"\n",
    "db_conn = psycopg2.connect(host=t_host, port=t_port, dbname=t_dbname, user=t_user, password=t_pw)\n",
    "db_cursor = db_conn.cursor()"
   ]
  },
  {
   "cell_type": "code",
   "execution_count": 2,
   "metadata": {},
   "outputs": [],
   "source": [
    "def main():\n",
    "    tuple_id = 842302\n",
    "    try:\n",
    "        db_cursor.execute(\"SELECT radius_mean, texture_mean, perimeter_mean, area_mean, smoothness_mean, compactness_mean, concavity_mean, concave_points_mean, symmetry_mean, fractal_dimension_mean, radius_se, texture_se, perimeter_se, area_se, smoothness_se, compactness_se, concavity_se, concave_points_se, symmetry_se, fractal_dimension_se, radius_worst, texture_worst, perimeter_worst, area_worst, smoothness_worst, compactness_worst, concavity_worst, concave_points_worst, symmetry_worst, fractal_dimension_worst FROM breast_cancer WHERE id = %s\", (tuple_id,))\n",
    "        single_tuple = db_cursor.fetchone()\n",
    "    except psycopg2.Error as e:\n",
    "        t_message = \"Postgres Database error: \" + e + \"/n\"\n",
    "        return render_template(\"error.html\", t_message = t_message)\n",
    "    \n",
    "    isleaf = False\n",
    "    node_id = 0\n",
    "    result = -1\n",
    "    try:\n",
    "        while(True):\n",
    "            db_cursor.execute(\"SELECT index, value, isleaf, leftchild, rightchild FROM tree WHERE id = %s\", (node_id,))\n",
    "            node_tuple = db_cursor.fetchone()\n",
    "            if(node_tuple[2] == True):\n",
    "                result = node_tuple[1]\n",
    "                break;\n",
    "            if(single_tuple[node_tuple[0]] <= node_tuple[1]):\n",
    "                node_id = node_tuple[3]\n",
    "            else:\n",
    "                node_id = node_tuple[4]\n",
    "            del node_tuple\n",
    "        print(result)\n",
    "    except psycopg2.Error as e:\n",
    "        t_message = \"Postgres Database error: \" + e + \"/n\"\n",
    "        return render_template(\"error.html\", t_message = t_message)\n",
    "    db_cursor.close()"
   ]
  },
  {
   "cell_type": "code",
   "execution_count": 3,
   "metadata": {},
   "outputs": [
    {
     "name": "stdout",
     "output_type": "stream",
     "text": [
      "2.0\n",
      "time cost 5.568027496337891 ms\n"
     ]
    }
   ],
   "source": [
    "import time\n",
    "\n",
    "time_start=time.time()\n",
    "if __name__ == \"__main__\":\n",
    "    main()\n",
    "time_end=time.time()\n",
    "print('time cost',(time_end-time_start)*1000,'ms')"
   ]
  },
  {
   "cell_type": "code",
   "execution_count": null,
   "metadata": {},
   "outputs": [],
   "source": []
  }
 ],
 "metadata": {
  "kernelspec": {
   "display_name": "Python 3",
   "language": "python",
   "name": "python3"
  },
  "language_info": {
   "codemirror_mode": {
    "name": "ipython",
    "version": 3
   },
   "file_extension": ".py",
   "mimetype": "text/x-python",
   "name": "python",
   "nbconvert_exporter": "python",
   "pygments_lexer": "ipython3",
   "version": "3.6.9"
  }
 },
 "nbformat": 4,
 "nbformat_minor": 2
}
